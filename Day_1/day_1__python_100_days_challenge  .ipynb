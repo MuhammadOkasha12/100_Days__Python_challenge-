{
 "cells": [
  {
   "cell_type": "code",
   "execution_count": 3,
   "id": "76e26b47",
   "metadata": {},
   "outputs": [
    {
     "name": "stdout",
     "output_type": "stream",
     "text": [
      "Welcome to the Band Name Generator !!\n",
      "Enter the name of the city you were born inPinda \n",
      "What was the name of your favourite pet during your childhoodBhaloo\n",
      "Your Band Name would be great if you have  Pinda  Bhaloo  as your Band Name\n"
     ]
    }
   ],
   "source": [
    "# PYTHON PROJECT DAY ONE\n",
    "print(\"Welcome to the Band Name Generator !!\")\n",
    "city=input(\"Enter the name of the city you were born in\")\n",
    "pet=input(\"What was the name of your favourite pet during your childhood\")\n",
    "\n",
    "Band_name= city + \" \"+ pet\n",
    "print(\"Your Band Name would be great if you have \", Band_name, \" as your Band Name\")"
   ]
  },
  {
   "cell_type": "code",
   "execution_count": null,
   "id": "33ed4369",
   "metadata": {},
   "outputs": [],
   "source": []
  }
 ],
 "metadata": {
  "kernelspec": {
   "display_name": "Python 3 (ipykernel)",
   "language": "python",
   "name": "python3"
  },
  "language_info": {
   "codemirror_mode": {
    "name": "ipython",
    "version": 3
   },
   "file_extension": ".py",
   "mimetype": "text/x-python",
   "name": "python",
   "nbconvert_exporter": "python",
   "pygments_lexer": "ipython3",
   "version": "3.11.3"
  }
 },
 "nbformat": 4,
 "nbformat_minor": 5
}
