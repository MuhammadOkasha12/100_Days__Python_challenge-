{
 "cells": [
  {
   "cell_type": "code",
   "execution_count": 1,
   "id": "bab83f21",
   "metadata": {},
   "outputs": [
    {
     "name": "stdout",
     "output_type": "stream",
     "text": [
      "\t\t\t\t\tWelcome to The Roller Coster\n",
      "\t\t\t\t\tPlease Enter your Age to continue\n",
      "\t\t\t\t\t18\n",
      "\t\t\t\t\tYou can buy a ticket & have a ride!!\n",
      "\n",
      "\n",
      "\n",
      "\t\t\t\t\tthanks for your consideration!!\n"
     ]
    }
   ],
   "source": [
    "                                    #MINI PROJECT 1 OF DAY THREE       \n",
    "print(\"\\t\\t\\t\\t\\tWelcome to The Roller Coster\")    \n",
    "age=int(input(\"\\t\\t\\t\\t\\tPlease Enter your Age to continue\\n\\t\\t\\t\\t\\t\"))\n",
    "\n",
    "if age>=14:\n",
    "    print(\"\\t\\t\\t\\t\\tYou can buy a ticket & have a ride!!\")\n",
    "else:\n",
    "    print(\"\\t\\t\\t\\t\\tSorry dude but we can not sell you a ticket!!\\n you will have to bring your parents to get a ticket \")\n",
    "    \n",
    "print(\"\\n\\n\\n\\t\\t\\t\\t\\tthanks for your consideration!!\")    "
   ]
  },
  {
   "cell_type": "code",
   "execution_count": 1,
   "id": "2c53e267",
   "metadata": {},
   "outputs": [
    {
     "name": "stdout",
     "output_type": "stream",
     "text": [
      "Enter a Number of your choice\n",
      "22\n",
      "0\n",
      "It was an Even Number\n"
     ]
    }
   ],
   "source": [
    "number=int( input(\"Enter a Number of your choice\\n\"))\n",
    "\n",
    "modulus= number%2\n",
    "print(modulus)\n",
    "if modulus==0:\n",
    "    print(\"It was an Even Number\")\n",
    "else:\n",
    "    print(\"It was an odd Number\")"
   ]
  },
  {
   "cell_type": "code",
   "execution_count": 2,
   "id": "955c4665",
   "metadata": {},
   "outputs": [
    {
     "name": "stdout",
     "output_type": "stream",
     "text": [
      "\t\t\t\t\tWelcome to The Roller Coster\n",
      "Enter Height\n",
      "2\n",
      "Sorry dude but we can not sell you a ticket!!\n",
      " you will have to bring your parents to get a ticket \n",
      "\n",
      "thanks for your consideration!!\n"
     ]
    }
   ],
   "source": [
    "print(\"\\t\\t\\t\\t\\tWelcome to The Roller Coster\")  \n",
    "height=int(input(\"Enter Height\\n\"))\n",
    "if height>=120:\n",
    "    print(\"Please pay and get your ticket\")\n",
    "else:\n",
    "    print(\"Sorry dude but we can not sell you a ticket!!\\n you will have to bring your parents to get a ticket \")\n",
    "print(\"\\nthanks for your consideration!!\")    "
   ]
  },
  {
   "cell_type": "code",
   "execution_count": 10,
   "id": "15aadc7e",
   "metadata": {},
   "outputs": [
    {
     "name": "stdout",
     "output_type": "stream",
     "text": [
      "Enter your weight222\n",
      "Enter your Height2\n",
      "55.5\n",
      "You are highly over weight and your current weight is 55.5\n"
     ]
    }
   ],
   "source": [
    "                        # MINI PROJECT NUMBER THREE\n",
    "weight= float(input(\"Enter your weight\"))\n",
    "height= float(input(\"Enter your Height\"))\n",
    "\n",
    "bmi= weight / height**2\n",
    "print(bmi)\n",
    "\n",
    "if bmi<18.5:\n",
    "    print(f\"You are under weight and your current weight is {bmi}\")\n",
    "elif bmi<25:\n",
    "    print(f\"You are normal weight and your current weight is {bmi}\")\n",
    "elif bmi<=29:\n",
    "    print(f\"You are over weight and your current weight is {bmi}\")\n",
    "else:\n",
    "    print(f\"You are highly over weight and your current weight is {bmi}\")"
   ]
  },
  {
   "cell_type": "code",
   "execution_count": 22,
   "id": "aead5317",
   "metadata": {},
   "outputs": [
    {
     "name": "stdout",
     "output_type": "stream",
     "text": [
      "what year do you want to check as a leap year\t2400\n",
      "this is not a leap year!\n"
     ]
    }
   ],
   "source": [
    "year= int(input(\"what year do you want to check as a leap year\\t\"))\n",
    "\n",
    "if year%4==0:\n",
    "    if year%100==0:\n",
    "        if year%400==0:\n",
    "            print(\"this is a leap  year!\")\n",
    "        else:\n",
    "            print(\"this is not a leap year!\")\n",
    "    else:\n",
    "        print(\"this is not a leap year!\")\n",
    "else:\n",
    "    print(\"this is not a leap year!\")"
   ]
  },
  {
   "cell_type": "code",
   "execution_count": 5,
   "id": "ba70183c",
   "metadata": {},
   "outputs": [
    {
     "name": "stdout",
     "output_type": "stream",
     "text": [
      "what size of pizza do you want to order\n",
      "large\n",
      "Do you want to add papperoni? Enter Y or N\n",
      "Y\n",
      "Do you want to put cheese to your pizza? Enter Y or N\n",
      "Y\n",
      "Your total bill is 29\n"
     ]
    }
   ],
   "source": [
    "pizza=  input(\"what size of pizza do you want to order\\n\")\n",
    "\n",
    "bill=0\n",
    "small=12\n",
    "large=14\n",
    "if pizza==small:\n",
    "    bill+= 12\n",
    "    papperoni= input(\"Do you want to add papperoni? Enter Y or N\\n\")\n",
    "    if papperoni==\"Y\":\n",
    "        bill= bill + 4\n",
    "    cheese= input(\"Do you want to put cheese to your pizza? Enter Y or N\\n\")\n",
    "    if cheese==\"Y\":\n",
    "        bill+=5\n",
    "    print(f\"Your total bill is {bill}\")    \n",
    "elif pizza==large:\n",
    "    bill+=15\n",
    "    papperoni= input(\"Do you want to add papperoni? Enter Y or N\\n\")\n",
    "    if papperoni==\"Y\":\n",
    "        bill= bill+4\n",
    "    cheese= input(\"Do you want to put cheese to your pizza? Enter Y or N\\n\")\n",
    "    if cheese==\"Y\":\n",
    "        bill+=5\n",
    "    print(f\"Your total bill is {bill}\")    \n",
    "else:\n",
    "    bill+=20\n",
    "    papperoni= input(\"Do you want to add papperoni? Enter Y or N\\n\")\n",
    "    if papperoni==\"Y\":\n",
    "        bill= bill + 4\n",
    "    cheese= input(\"Do you want to put cheese to your pizza? Enter Y or N\\n\")\n",
    "    if cheese==\"Y\":\n",
    "        bill+=5\n",
    "    print(f\"Your total bill is {bill}\")    "
   ]
  },
  {
   "cell_type": "code",
   "execution_count": 8,
   "id": "fd767880",
   "metadata": {},
   "outputs": [
    {
     "name": "stdout",
     "output_type": "stream",
     "text": [
      "Welcome to the Treasure Island\n",
      "Your mission is to find the treasure\n",
      "\n",
      "where would you like to move? Please choose between left and right\n",
      "right\n",
      "You  have entered a room of fire and you are dead!\n",
      "game over!!\n",
      " you lost and have made 0 til yet\n"
     ]
    }
   ],
   "source": [
    "                                            # DAY THREE PROJECT\n",
    "                                            # TREASURE ISLAND\n",
    "print(\"Welcome to the Treasure Island\\nYour mission is to find the treasure\\n\")\n",
    "right_choice=0\n",
    "\n",
    "first= input(\"where would you like to move? Please choose between left and right\\n\")\n",
    "if first== \"right\":\n",
    "    print(f\"You  have entered a room of fire and you are dead!\\ngame over!!\\n you lost and have made {right_choice} til yet\")\n",
    "else:\n",
    "    print(\"You made your first choice right\")\n",
    "    right_choice+=1\n",
    "    second=input(\"what would  you like to choose now? Please choose between swim and wait\\n \")\n",
    "    if second==\"swim\":\n",
    "        print(f\"You are dead because the beach is full of crocodiles.\\n game over!!\\n your right choices are {right_choice} till yet!\\nbetter luck  next time\")\n",
    "    else:\n",
    "        right_choice+=1\n",
    "        print(\"You have made another right choice\\n congratulations !!\")\n",
    "        third=input(\"A ship has arrived and you have been on the ship.\\nYou have Three doors. Which one would you like to open? Please choose between left and right and front\\n \")\n",
    "        if third==\"left\":\n",
    "            print(f\"game over!!\\n your right choices are {right_choice} till yet!\\nbetter luck  next time\")\n",
    "        elif third==\"right\":\n",
    "            print(f\"game over!!\\n your right choices are {right_choice} till yet!\\nbetter luck  next time\")\n",
    "        else:    \n",
    "            right_choice+=1\n",
    "            print(f\"Game Completed!!\\n Your right choices are {right_choice}.\\nYou have found the treasure!!\")\n",
    "          "
   ]
  },
  {
   "cell_type": "code",
   "execution_count": null,
   "id": "7d0e6a04",
   "metadata": {},
   "outputs": [],
   "source": []
  }
 ],
 "metadata": {
  "kernelspec": {
   "display_name": "Python 3 (ipykernel)",
   "language": "python",
   "name": "python3"
  },
  "language_info": {
   "codemirror_mode": {
    "name": "ipython",
    "version": 3
   },
   "file_extension": ".py",
   "mimetype": "text/x-python",
   "name": "python",
   "nbconvert_exporter": "python",
   "pygments_lexer": "ipython3",
   "version": "3.11.3"
  }
 },
 "nbformat": 4,
 "nbformat_minor": 5
}
