{
 "cells": [
  {
   "cell_type": "code",
   "execution_count": 6,
   "id": "57edf679",
   "metadata": {},
   "outputs": [
    {
     "name": "stdout",
     "output_type": "stream",
     "text": [
      "day-1 Python Programming challenge\n",
      "the functionn is declared like this!!!\n",
      "print('what to print')\n"
     ]
    }
   ],
   "source": [
    "print(\"day-1 Python Programming challenge\")\n",
    "print(\"the functionn is declared like this!!!\")\n",
    "print(\"print('what to print')\")"
   ]
  },
  {
   "cell_type": "code",
   "execution_count": 8,
   "id": "4da82b79",
   "metadata": {},
   "outputs": [
    {
     "name": "stdout",
     "output_type": "stream",
     "text": [
      "hello world!\n",
      "hello world!!\n",
      "hello world!!!\n"
     ]
    }
   ],
   "source": [
    "print(\"hello world!\\nhello world!!\\nhello world!!!\")"
   ]
  },
  {
   "cell_type": "code",
   "execution_count": 11,
   "id": "a21e21de",
   "metadata": {},
   "outputs": [
    {
     "name": "stdout",
     "output_type": "stream",
     "text": [
      "hellookasha\n"
     ]
    }
   ],
   "source": [
    "print(\"hello\" + \"okasha\")"
   ]
  },
  {
   "cell_type": "code",
   "execution_count": 12,
   "id": "cac3118f",
   "metadata": {},
   "outputs": [
    {
     "name": "stdout",
     "output_type": "stream",
     "text": [
      "hello\tokasha\n"
     ]
    }
   ],
   "source": [
    "print(\"hello\" + \"\\tokasha\")"
   ]
  },
  {
   "cell_type": "code",
   "execution_count": 13,
   "id": "16a7294d",
   "metadata": {},
   "outputs": [
    {
     "name": "stdout",
     "output_type": "stream",
     "text": [
      "hello okasha\n"
     ]
    }
   ],
   "source": [
    "print(\"hello\" + \" okasha\")"
   ]
  },
  {
   "cell_type": "code",
   "execution_count": 14,
   "id": "f4a06be6",
   "metadata": {},
   "outputs": [
    {
     "name": "stdout",
     "output_type": "stream",
     "text": [
      "hello okasha\n"
     ]
    }
   ],
   "source": [
    "print(\"hello \" + \"okasha\")"
   ]
  },
  {
   "cell_type": "code",
   "execution_count": 15,
   "id": "d0dee143",
   "metadata": {},
   "outputs": [
    {
     "name": "stdout",
     "output_type": "stream",
     "text": [
      "hello\tokasha\n"
     ]
    }
   ],
   "source": [
    "print(\"hello\\t\" + \"okasha\")"
   ]
  },
  {
   "cell_type": "code",
   "execution_count": 16,
   "id": "de179c79",
   "metadata": {},
   "outputs": [
    {
     "name": "stdout",
     "output_type": "stream",
     "text": [
      "hello okasha\n"
     ]
    }
   ],
   "source": [
    "print(\"hello\" + \" \"+ \"okasha\")"
   ]
  },
  {
   "cell_type": "code",
   "execution_count": 20,
   "id": "7c66b2a3",
   "metadata": {},
   "outputs": [
    {
     "name": "stdout",
     "output_type": "stream",
     "text": [
      "Day 1- Python Programming Challenge!!!\n",
      "The String Concatenation is done by the +sign\n",
      "e.g(print(\"hello\" + \"world\"))\n",
      "New Lines can be created by a backslash n\n",
      "bug  removed\n"
     ]
    }
   ],
   "source": [
    "print(\"Day 1- Python Programming Challenge!!!\")\n",
    "print(\"The String Concatenation is done by the \" + \"+\" + \"sign\")\n",
    "print('e.g(print(\"hello\" + \"world\"))')\n",
    "print(\"New Lines can be created by a backslash n\")\n",
    "print(\"bug  removed\")"
   ]
  },
  {
   "cell_type": "code",
   "execution_count": 19,
   "id": "39c8f70d",
   "metadata": {
    "scrolled": true
   },
   "outputs": [
    {
     "name": "stdout",
     "output_type": "stream",
     "text": [
      "Enter Your height\n",
      "2\n",
      "Enter Your weight\n",
      "20000\n",
      "5000\n",
      "you are normal weight\n"
     ]
    }
   ],
   "source": [
    "height= input(\"Enter Your height\\n\")\n",
    "weight= input(\"Enter Your weight\\n\")\n",
    "\n",
    "BMI= int (weight)/float (height)**2\n",
    "BMI= int(BMI)\n",
    "print(BMI)\n",
    "if BMI<18 :\n",
    "    print(\"You are under weight\")\n",
    "elif BMI>18 & BMI<60 :\n",
    "    print(\"you are normal weight\")\n",
    "elif BMI>60 & BMI<100 :\n",
    "    print(\"you are over weight\")\n",
    "    "
   ]
  },
  {
   "cell_type": "code",
   "execution_count": 12,
   "id": "335237bc",
   "metadata": {},
   "outputs": [
    {
     "name": "stdout",
     "output_type": "stream",
     "text": [
      "what is your age2\n",
      "You have days left 32120, weeks left 4576, months left 1056\n"
     ]
    }
   ],
   "source": [
    "age=input(\"what is your age\")\n",
    "age= int(age)\n",
    "years_remaining= 90-int(age)\n",
    "days= years_remaining*365\n",
    "weeks=  years_remaining*52\n",
    "months=years_remaining*12\n",
    "\n",
    "print(f\"You have days left {days}, weeks left {weeks}, months left {months}\")"
   ]
  },
  {
   "cell_type": "code",
   "execution_count": 72,
   "id": "6105472d",
   "metadata": {},
   "outputs": [
    {
     "name": "stdout",
     "output_type": "stream",
     "text": [
      "Welcome to the Tip Calculator\n",
      "What was the bil $22\n",
      "what is the number of people who will divide the bill2\n",
      "how much tip would you give to  the waiter $10 $12 $14? $12\n",
      "Total bill formed with tip is  24.64\n",
      "Total bill formed per head with tip is  12.3\n"
     ]
    }
   ],
   "source": [
    "                                            # DAY TWO PROJECT\n",
    "print(\"Welcome to the Tip Calculator\")\n",
    "bill=float(input(\"What was the bil $\"))\n",
    "people=int(input(\"what is the number of people who will divide the bill\"))\n",
    "\n",
    "tip=input(\"how much tip would you give to  the waiter $10 $12 $14? $\")\n",
    "total_bill= int(tip)/100*bill + bill\n",
    "print(\"Total bill formed with tip is \", total_bill)\n",
    "bill_per_head= total_bill/people\n",
    "bill_per_head=print(\"Total bill formed per head with tip is \",(round(bill_per_head,1)))\n"
   ]
  },
  {
   "cell_type": "code",
   "execution_count": null,
   "id": "b022dcbc",
   "metadata": {},
   "outputs": [],
   "source": []
  }
 ],
 "metadata": {
  "kernelspec": {
   "display_name": "Python 3 (ipykernel)",
   "language": "python",
   "name": "python3"
  },
  "language_info": {
   "codemirror_mode": {
    "name": "ipython",
    "version": 3
   },
   "file_extension": ".py",
   "mimetype": "text/x-python",
   "name": "python",
   "nbconvert_exporter": "python",
   "pygments_lexer": "ipython3",
   "version": "3.11.3"
  }
 },
 "nbformat": 4,
 "nbformat_minor": 5
}
