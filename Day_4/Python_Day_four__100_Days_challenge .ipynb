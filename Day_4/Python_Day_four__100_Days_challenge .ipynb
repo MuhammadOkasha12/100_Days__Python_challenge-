{
 "cells": [
  {
   "cell_type": "code",
   "execution_count": 60,
   "id": "b257f69c",
   "metadata": {},
   "outputs": [
    {
     "name": "stdout",
     "output_type": "stream",
     "text": [
      "69\n"
     ]
    }
   ],
   "source": [
    "import random\n",
    "\n",
    "random_int= random.randint(1,100)\n",
    "print(random_int)"
   ]
  },
  {
   "cell_type": "code",
   "execution_count": 99,
   "id": "1c8446cc",
   "metadata": {},
   "outputs": [
    {
     "name": "stdout",
     "output_type": "stream",
     "text": [
      "Heads\n"
     ]
    }
   ],
   "source": [
    "import random\n",
    "\n",
    "random_side= random.randint(0,2)\n",
    "..\n",
    "if random_side==1:\n",
    "    print(\"Heads\")\n",
    "\n",
    "else:    \n",
    "    print(\"Tails\")"
   ]
  },
  {
   "cell_type": "code",
   "execution_count": 13,
   "id": "ae719d3c",
   "metadata": {
    "scrolled": true
   },
   "outputs": [
    {
     "name": "stdout",
     "output_type": "stream",
     "text": [
      "Give me total number of people present!! seperated by a comma!usama,  huraira, okasha, talha, huzaifa\n",
      "  huraira is going to pay the bill\n"
     ]
    }
   ],
   "source": [
    "import random\n",
    "people=input(\"Give me total number of people present!! seperated by a comma!\")\n",
    "\n",
    "names= people.split(\",\")\n",
    "number_of_people= len(names)\n",
    "random_choice= random.randint(0, number_of_people-1)\n",
    "person_who_will_pay= names[random_choice]\n",
    "print(person_who_will_pay + \" is going to pay the bill\")"
   ]
  },
  {
   "cell_type": "code",
   "execution_count": 14,
   "id": "f858fbc4",
   "metadata": {},
   "outputs": [
    {
     "name": "stdout",
     "output_type": "stream",
     "text": [
      "['..', '..', '..', '..'] \n",
      " ['..', '..', '..', '..'] \n",
      " ['..', '..', '..', '..'] \n",
      " ['..', '..', '..', '..']\n",
      "Where do you want to enter the treasure42\n"
     ]
    }
   ],
   "source": [
    "row1=[\"..\", \"..\", \"..\", \"..\"]\n",
    "row2=[\"..\", \"..\", \"..\", \"..\"]\n",
    "row4=[\"..\", \"..\", \"..\", \"..\"]\n",
    "row5=[\"..\", \"..\", \"..\", \"..\"]\n",
    "\n",
    "map=[row1, row2, row4, row5]\n",
    "print(f\"{row1} \\n {row2} \\n {row4} \\n {row5}\")\n",
    "\n",
    "position= input(\"Where do you want to enter the treasure\")"
   ]
  }
 ],
 "metadata": {
  "kernelspec": {
   "display_name": "Python 3 (ipykernel)",
   "language": "python",
   "name": "python3"
  },
  "language_info": {
   "codemirror_mode": {
    "name": "ipython",
    "version": 3
   },
   "file_extension": ".py",
   "mimetype": "text/x-python",
   "name": "python",
   "nbconvert_exporter": "python",
   "pygments_lexer": "ipython3",
   "version": "3.11.3"
  }
 },
 "nbformat": 4,
 "nbformat_minor": 5
}
